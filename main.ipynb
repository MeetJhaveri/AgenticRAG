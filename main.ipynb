{
  "cells": [
    {
      "cell_type": "code",
      "execution_count": null,
      "metadata": {
        "colab": {
          "base_uri": "https://localhost:8080/"
        },
        "id": "z5lKUf4Tee9R",
        "outputId": "e103104a-a768-45d2-ff52-9a164b18bed3"
      },
      "outputs": [],
      "source": [
        "!pip install -q google-colab\n",
        "\n",
        "from google.colab import userdata"
      ]
    },
    {
      "cell_type": "code",
      "execution_count": null,
      "metadata": {
        "colab": {
          "base_uri": "https://localhost:8080/"
        },
        "id": "WACRAq36elOZ",
        "outputId": "7dca78e0-a498-4e06-da75-d2911cf7c4d0"
      },
      "outputs": [
        {
          "name": "stdout",
          "output_type": "stream",
          "text": [
            "Successfully retrieved API key: sk-...A\r\n",
            "\n"
          ]
        }
      ],
      "source": [
        "from google.colab import userdata\n",
        "\n",
        "api_key = userdata.get('OPENAI_API_KEY')\n",
        "\n",
        "print(f\"Successfully retrieved API key: {api_key[:3]}...{api_key[-3:] if len(api_key) > 6 else ''}\")"
      ]
    },
    {
      "cell_type": "code",
      "execution_count": 16,
      "metadata": {
        "colab": {
          "base_uri": "https://localhost:8080/"
        },
        "id": "kE8FNhrhenqf",
        "outputId": "704f6b16-fb43-42e6-cbfe-4a1106be9a3a"
      },
      "outputs": [
        {
          "name": "stdout",
          "output_type": "stream",
          "text": [
            "Retrieved OPENAI_API_KEY from Colab secrets\n"
          ]
        }
      ],
      "source": [
        "import getpass\n",
        "import os\n",
        "from google.colab import userdata\n",
        "\n",
        "def _set_env(key: str):\n",
        "    try:\n",
        "        value = userdata.get(key)\n",
        "        value = value.strip()\n",
        "        os.environ[key] = value\n",
        "        print(f\"Retrieved {key} from Colab secrets\")\n",
        "    except Exception:\n",
        "        if key not in os.environ:\n",
        "            value = getpass.getpass(f\"{key}:\")\n",
        "\n",
        "            value = value.strip()\n",
        "            os.environ[key] = value\n",
        "            print(f\"Set {key} from user input\")\n",
        "\n",
        "\n",
        "_set_env(\"OPENAI_API_KEY\")"
      ]
    },
    {
      "cell_type": "code",
      "execution_count": 17,
      "metadata": {
        "id": "UIGhu2wmesdn"
      },
      "outputs": [],
      "source": [
        "from langchain_community.document_loaders import WebBaseLoader\n",
        "from langchain_community.vectorstores import Chroma\n",
        "from langchain_openai import OpenAIEmbeddings\n",
        "from langchain_text_splitters import RecursiveCharacterTextSplitter\n",
        "from langchain.tools.retriever import create_retriever_tool\n",
        "from typing import Annotated, Sequence\n",
        "from typing_extensions import TypedDict\n",
        "\n",
        "from langchain_core.messages import BaseMessage\n",
        "\n",
        "from langgraph.graph.message import add_messages\n",
        "from typing import Annotated, Literal, Sequence\n",
        "from typing_extensions import TypedDict\n",
        "\n",
        "from langchain import hub\n",
        "from langchain_core.messages import BaseMessage, HumanMessage\n",
        "from langchain_core.output_parsers import StrOutputParser\n",
        "from langchain_core.prompts import PromptTemplate\n",
        "from langchain_openai import ChatOpenAI\n",
        "\n",
        "from pydantic import BaseModel, Field\n",
        "\n",
        "\n",
        "from langgraph.prebuilt import tools_condition\n",
        "from langgraph.graph import END, StateGraph, START\n",
        "from langgraph.prebuilt import ToolNode"
      ]
    },
    {
      "cell_type": "code",
      "execution_count": 18,
      "metadata": {
        "id": "bzKWRL3levKL"
      },
      "outputs": [],
      "source": [
        "urls = [\n",
        "    \"https://hbr.org/2021/01/what-you-were-taught-about-happiness-isnt-true\",\n",
        "    \"https://buffer.com/resources/be-happy-today/\",\n",
        "]\n",
        "\n",
        "docs = [WebBaseLoader(url).load() for url in urls]\n",
        "docs_list = [item for sublist in docs for item in sublist]\n",
        "\n",
        "text_splitter = RecursiveCharacterTextSplitter.from_tiktoken_encoder(\n",
        "    chunk_size=100, chunk_overlap=50\n",
        ")\n",
        "doc_splits = text_splitter.split_documents(docs_list)\n",
        "\n",
        "# Add to vectorDB\n",
        "vectorstore = Chroma.from_documents(\n",
        "    documents=doc_splits,\n",
        "    collection_name=\"rag-chroma-happy\",\n",
        "    embedding=OpenAIEmbeddings(),\n",
        ")\n",
        "retriever = vectorstore.as_retriever()"
      ]
    },
    {
      "cell_type": "code",
      "execution_count": 19,
      "metadata": {
        "id": "54PvJUlpexD8"
      },
      "outputs": [],
      "source": [
        "retriever_tool = create_retriever_tool(\n",
        "    retriever,\n",
        "    \"retrieve_blog_posts\",\n",
        "    \"Search and return information about Happiness in the blog posts.\",\n",
        ")\n",
        "\n",
        "tools = [retriever_tool]"
      ]
    },
    {
      "cell_type": "code",
      "execution_count": 20,
      "metadata": {
        "id": "yeFzXoTbe091"
      },
      "outputs": [],
      "source": [
        "class AgentState(TypedDict):\n",
        "    messages: Annotated[Sequence[BaseMessage], add_messages]"
      ]
    },
    {
      "cell_type": "code",
      "execution_count": 21,
      "metadata": {
        "id": "EI7e503Ce2xo"
      },
      "outputs": [],
      "source": [
        "def grade_documents(state):\n",
        "\n",
        "    class grade(BaseModel):\n",
        "        \"\"\"Binary score for relevance check.\"\"\"\n",
        "        binary_score: str = Field(description=\"Relevance score 'yes' or 'no'\")\n",
        "\n",
        "    model = ChatOpenAI(temperature=0, streaming=True)\n",
        "    llm_with_tool = model.with_structured_output(grade)\n",
        "    prompt = PromptTemplate(\n",
        "        template=\"\"\"You are a grader assessing relevance of a retrieved document to a user question. \\n\n",
        "        Here is the retrieved document: \\n\\n {context} \\n\\n\n",
        "        Here is the user question: {question} \\n\n",
        "        If the document contains keyword(s) or semantic meaning related to the user question, grade it as relevant. \\n\n",
        "        Give a binary score 'yes' or 'no' score to indicate whether the document is relevant to the question.\"\"\",\n",
        "        input_variables=[\"context\", \"question\"],\n",
        "    )\n",
        "    chain = prompt | llm_with_tool\n",
        "    messages = state[\"messages\"]\n",
        "    last_message = messages[-1]\n",
        "    question = messages[0].content\n",
        "    docs = last_message.content\n",
        "    scored_result = chain.invoke({\"question\": question, \"context\": docs})\n",
        "    score = scored_result.binary_score\n",
        "    if score == \"yes\":\n",
        "        print(\"---DECISION: DOCS RELEVANT---\")\n",
        "        return \"generate\"\n",
        "    else:\n",
        "        print(\"---DECISION: DOCS NOT RELEVANT---\")\n",
        "        print(score)\n",
        "        return \"rewrite\""
      ]
    },
    {
      "cell_type": "code",
      "execution_count": null,
      "metadata": {
        "id": "47MzMHA-e5OJ"
      },
      "outputs": [],
      "source": [
        "def agent(state):\n",
        "    \"\"\"\n",
        "    Invokes the agent model to generate a response based on the current state. Given\n",
        "    the question, it will decide to retrieve using the retriever tool, or simply end.\n",
        "\n",
        "    Args:\n",
        "        state (messages): The current state\n",
        "\n",
        "    Returns:\n",
        "        dict: The updated state with the agent response appended to messages\n",
        "    \"\"\"\n",
        "    print(\"---CALL AGENT---\")\n",
        "    messages = state[\"messages\"]\n",
        "    model = ChatOpenAI()\n",
        "    model = model.bind_tools(tools)\n",
        "    response = model.invoke(messages)\n",
        "    return {\"messages\": [response]}"
      ]
    },
    {
      "cell_type": "code",
      "execution_count": 23,
      "metadata": {
        "id": "0oq1NU3Le7Cn"
      },
      "outputs": [],
      "source": [
        "def rewrite(state):\n",
        "    \"\"\"\n",
        "    Transform the query to produce a better question.\n",
        "\n",
        "    Args:\n",
        "        state (messages): The current state\n",
        "\n",
        "    Returns:\n",
        "        dict: The updated state with re-phrased question\n",
        "    \"\"\"\n",
        "\n",
        "    print(\"---TRANSFORM QUERY---\")\n",
        "    messages = state[\"messages\"]\n",
        "    question = messages[0].content\n",
        "\n",
        "    msg = [\n",
        "        HumanMessage(\n",
        "            content=f\"\"\" \\n\n",
        "    Look at the input and try to reason about the underlying semantic intent / meaning. \\n\n",
        "    Here is the initial question:\n",
        "    \\n ------- \\n\n",
        "    {question}\n",
        "    \\n ------- \\n\n",
        "    Formulate an improved question: \"\"\",\n",
        "        )\n",
        "    ]\n",
        "\n",
        "    # Grader\n",
        "    model = ChatOpenAI(temperature=0, model=\"gpt-4-0125-preview\", streaming=True)\n",
        "    response = model.invoke(msg)\n",
        "    return {\"messages\": [response]}"
      ]
    },
    {
      "cell_type": "code",
      "execution_count": 24,
      "metadata": {
        "id": "E_A1D-Rde-WM"
      },
      "outputs": [],
      "source": [
        "def generate(state):\n",
        "    \"\"\"\n",
        "    Generate answer\n",
        "\n",
        "    Args:\n",
        "        state (messages): The current state\n",
        "\n",
        "    Returns:\n",
        "         dict: The updated state with re-phrased question\n",
        "    \"\"\"\n",
        "    print(\"---GENERATE---\")\n",
        "    messages = state[\"messages\"]\n",
        "    question = messages[0].content\n",
        "    last_message = messages[-1]\n",
        "\n",
        "    docs = last_message.content\n",
        "\n",
        "    # Prompt\n",
        "    prompt = hub.pull(\"rlm/rag-prompt\")\n",
        "\n",
        "    # LLM\n",
        "    llm = ChatOpenAI(model_name=\"gpt-3.5-turbo\", temperature=0, streaming=True)\n",
        "\n",
        "    # Post-processing\n",
        "    def format_docs(docs):\n",
        "        return \"\\n\\n\".join(doc.page_content for doc in docs)\n",
        "\n",
        "    # Chain\n",
        "    rag_chain = prompt | llm | StrOutputParser()\n",
        "\n",
        "    # Run\n",
        "    response = rag_chain.invoke({\"context\": docs, \"question\": question})\n",
        "    return {\"messages\": [response]}"
      ]
    },
    {
      "cell_type": "code",
      "execution_count": 25,
      "metadata": {
        "colab": {
          "base_uri": "https://localhost:8080/"
        },
        "id": "LZd4lvU2fAXo",
        "outputId": "ff4288b1-e28b-4c16-c6b8-c8991608416f"
      },
      "outputs": [
        {
          "name": "stdout",
          "output_type": "stream",
          "text": [
            "********************Prompt[rlm/rag-prompt]********************\n"
          ]
        },
        {
          "name": "stderr",
          "output_type": "stream",
          "text": [
            "/usr/local/lib/python3.11/dist-packages/langsmith/client.py:277: LangSmithMissingAPIKeyWarning: API key must be provided when using hosted LangSmith API\n",
            "  warnings.warn(\n"
          ]
        },
        {
          "name": "stdout",
          "output_type": "stream",
          "text": [
            "================================\u001b[1m Human Message \u001b[0m=================================\n",
            "\n",
            "You are an assistant for question-answering tasks. Use the following pieces of retrieved context to answer the question. If you don't know the answer, just say that you don't know. Use three sentences maximum and keep the answer concise.\n",
            "Question: \u001b[33;1m\u001b[1;3m{question}\u001b[0m \n",
            "Context: \u001b[33;1m\u001b[1;3m{context}\u001b[0m \n",
            "Answer:\n"
          ]
        }
      ],
      "source": [
        "print(\"*\" * 20 + \"Prompt[rlm/rag-prompt]\" + \"*\" * 20)\n",
        "prompt = hub.pull(\"rlm/rag-prompt\").pretty_print()"
      ]
    },
    {
      "cell_type": "code",
      "execution_count": 26,
      "metadata": {
        "id": "_SKmF_C5fCVP"
      },
      "outputs": [],
      "source": [
        "workflow = StateGraph(AgentState)\n",
        "\n",
        "workflow.add_node(\"agent\", agent)\n",
        "retrieve = ToolNode([retriever_tool])\n",
        "workflow.add_node(\"retrieve\", retrieve)\n",
        "workflow.add_node(\"rewrite\", rewrite)\n",
        "workflow.add_node(\n",
        "    \"generate\", generate\n",
        ")\n",
        "workflow.add_edge(START, \"agent\")\n",
        "\n",
        "workflow.add_conditional_edges(\n",
        "    \"agent\",\n",
        "    tools_condition,\n",
        "    {\n",
        "        \"tools\": \"retrieve\",\n",
        "        END: END,\n",
        "    },\n",
        ")\n",
        "\n",
        "workflow.add_conditional_edges(\n",
        "    \"retrieve\",\n",
        "    grade_documents,\n",
        ")\n",
        "\n",
        "workflow.add_edge(\"generate\", END)\n",
        "workflow.add_edge(\"rewrite\", \"agent\")\n",
        "\n",
        "\n",
        "graph = workflow.compile()"
      ]
    },
    {
      "cell_type": "code",
      "execution_count": 27,
      "metadata": {
        "colab": {
          "base_uri": "https://localhost:8080/",
          "height": 473
        },
        "id": "DSFf4ruefGmB",
        "outputId": "e26e6db2-9f83-46a1-cdd7-1037a2e922e1"
      },
      "outputs": [
        {
          "data": {
            "image/png": "[encoded data removed]",
            "text/plain": [
              "<IPython.core.display.Image object>"
            ]
          },
          "metadata": {},
          "output_type": "display_data"
        }
      ],
      "source": [
        "from IPython.display import Image, display\n",
        "\n",
        "try:\n",
        "    display(Image(graph.get_graph(xray=True).draw_mermaid_png()))\n",
        "except Exception:\n",
        "    pass"
      ]
    },
    {
      "cell_type": "code",
      "execution_count": 28,
      "metadata": {
        "colab": {
          "base_uri": "https://localhost:8080/"
        },
        "id": "trBHK8IWfIZw",
        "outputId": "dd465c52-238d-4f6c-ea01-e65f909056f9"
      },
      "outputs": [
        {
          "name": "stdout",
          "output_type": "stream",
          "text": [
            "---CALL AGENT---\n",
            "\"Output from node 'agent':\"\n",
            "'---'\n",
            "{ 'messages': [ AIMessage(content='', additional_kwargs={'tool_calls': [{'id': 'call_gaspymERVtABYpolaCasRj1c', 'function': {'arguments': '{\"query\": \"5 pointers to make a human live a happy life\"}', 'name': 'retrieve_blog_posts'}, 'type': 'function'}, {'id': 'call_b3K5nfpCrqtEaSNnCvkkaAHg', 'function': {'arguments': '{\"query\": \"tips for a happy life\"}', 'name': 'retrieve_blog_posts'}, 'type': 'function'}], 'refusal': None}, response_metadata={'token_usage': {'completion_tokens': 59, 'prompt_tokens': 74, 'total_tokens': 133, 'completion_tokens_details': {'accepted_prediction_tokens': 0, 'audio_tokens': 0, 'reasoning_tokens': 0, 'rejected_prediction_tokens': 0}, 'prompt_tokens_details': {'audio_tokens': 0, 'cached_tokens': 0}}, 'model_name': 'gpt-3.5-turbo-0125', 'system_fingerprint': None, 'id': 'chatcmpl-BHEGtV0nrfeKmHMFjbyZeA0F9qCq6', 'finish_reason': 'tool_calls', 'logprobs': None}, id='run-7598b44f-c89c-4be1-b967-3bcbc9a0140b-0', tool_calls=[{'name': 'retrieve_blog_posts', 'args': {'query': '5 pointers to make a human live a happy life'}, 'id': 'call_gaspymERVtABYpolaCasRj1c', 'type': 'tool_call'}, {'name': 'retrieve_blog_posts', 'args': {'query': 'tips for a happy life'}, 'id': 'call_b3K5nfpCrqtEaSNnCvkkaAHg', 'type': 'tool_call'}], usage_metadata={'input_tokens': 74, 'output_tokens': 59, 'total_tokens': 133, 'input_token_details': {'audio': 0, 'cache_read': 0}, 'output_token_details': {'audio': 0, 'reasoning': 0}})]}\n",
            "'\\n---\\n'\n"
          ]
        },
        {
          "name": "stderr",
          "output_type": "stream",
          "text": [
            "/usr/local/lib/python3.11/dist-packages/langchain_openai/chat_models/base.py:1582: UserWarning: Cannot use method='json_schema' with model gpt-3.5-turbo since it doesn't support OpenAI's Structured Output API. You can see supported models here: https://platform.openai.com/docs/guides/structured-outputs#supported-models. To fix this warning, set `method='function_calling'. Overriding to method='function_calling'.\n",
            "  warnings.warn(\n"
          ]
        },
        {
          "name": "stdout",
          "output_type": "stream",
          "text": [
            "---DECISION: DOCS RELEVANT---\n",
            "\"Output from node 'retrieve':\"\n",
            "'---'\n",
            "{ 'messages': [ ToolMessage(content=\"Move closer to work (or work from home)\\nSpend time with friends and family\\nGet outside somewhere green\\nHelp others to help yourself\\nPractice smiling ‚Äî it can alleviate pain\\nPlan a trip ‚Äî you don‚Äôt even need to take it\\nMeditate ‚Äî rewire your brain for happiness\\nPractice gratitude to increase both happiness and life satisfaction\\nTailor this list to suit you\\n\\nmind-blowing what this can do to us.10. Practice gratitude to increase both happiness and life satisfactionThis is a seemingly simple strategy, but I‚Äôve personally found it to make a huge difference to my outlook. There are lots of ways to practice gratitude, from keeping a journal of things you‚Äôre grateful for, sharing three good things that happen each day with a friend or your partner, and going out of your way to show gratitude when others\\n\\nup-to-date version. No surprise then that I thought it would be interesting to dig into the research on how to become a happier person. Spoiler: there's a lot of it! After combing through as much as I could, here are 11 of the simplest things that make you happy, according to science.\\n\\neven when they saw no physical changes.The best part? This doesn‚Äôt mean you need to commit to a miles-long run or strenuous HIIT class every day to have a happy life ‚Äî just 10 minutes of movement a day has been proven to be enough to boost happiness levels, according to The Journal of Happiness Studies.2. Sleep more ‚Äî you‚Äôll feel like you‚Äôve\", name='retrieve_blog_posts', id='4609af6e-999e-4b98-a26f-37c754569b6b', tool_call_id='call_gaspymERVtABYpolaCasRj1c'),\n",
            "                ToolMessage(content='mind-blowing what this can do to us.10. Practice gratitude to increase both happiness and life satisfactionThis is a seemingly simple strategy, but I‚Äôve personally found it to make a huge difference to my outlook. There are lots of ways to practice gratitude, from keeping a journal of things you‚Äôre grateful for, sharing three good things that happen each day with a friend or your partner, and going out of your way to show gratitude when others\\n\\nMove closer to work (or work from home)\\nSpend time with friends and family\\nGet outside somewhere green\\nHelp others to help yourself\\nPractice smiling ‚Äî it can alleviate pain\\nPlan a trip ‚Äî you don‚Äôt even need to take it\\nMeditate ‚Äî rewire your brain for happiness\\nPractice gratitude to increase both happiness and life satisfaction\\nTailor this list to suit you\\n\\ncan‚Äôt take the time for a vacation right now, or even a night out with friends, put something on the calendar ‚Äî even if it‚Äôs a month or a year down the road. Then whenever you need a boost of happiness, remind yourself about it.9. Meditate ‚Äî rewire your brain for happinessMeditation is often touted as an important habit for improving focus, clarity, and attention span,\\n\\nroad. Then whenever you need a boost of happiness, remind yourself about it.9. Meditate ‚Äî rewire your brain for happinessMeditation is often touted as an important habit for improving focus, clarity, and attention span, as well as helping to keep you calm.It turns out it‚Äôs also useful for improving your happiness. A study by Massachusetts General Hospital analyzed brain scans of 16 people before and after they participated in an eight-week course in', name='retrieve_blog_posts', id='bb30325f-1efb-4882-9295-c9c9bc1e6d44', tool_call_id='call_b3K5nfpCrqtEaSNnCvkkaAHg')]}\n",
            "'\\n---\\n'\n",
            "---GENERATE---\n"
          ]
        },
        {
          "name": "stderr",
          "output_type": "stream",
          "text": [
            "/usr/local/lib/python3.11/dist-packages/langsmith/client.py:277: LangSmithMissingAPIKeyWarning: API key must be provided when using hosted LangSmith API\n",
            "  warnings.warn(\n"
          ]
        },
        {
          "name": "stdout",
          "output_type": "stream",
          "text": [
            "\"Output from node 'generate':\"\n",
            "'---'\n",
            "{ 'messages': [ 'The 5 pointers to make a human live a happy life are '\n",
            "                'practicing gratitude, spending time with friends and family, '\n",
            "                'getting outside in nature, helping others, and practicing '\n",
            "                'smiling. These activities can increase happiness and life '\n",
            "                'satisfaction. Meditation and planning a trip can also '\n",
            "                'contribute to rewiring the brain for happiness.']}\n",
            "'\\n---\\n'\n"
          ]
        }
      ],
      "source": [
        "import pprint\n",
        "\n",
        "inputs = {\n",
        "    \"messages\": [\n",
        "        (\"user\", \"What are the 5 pointers to make a human live happy life ?\"),\n",
        "    ]\n",
        "}\n",
        "for output in graph.stream(inputs):\n",
        "    for key, value in output.items():\n",
        "        pprint.pprint(f\"Output from node '{key}':\")\n",
        "        pprint.pprint(\"---\")\n",
        "        pprint.pprint(value, indent=2, width=80, depth=None)\n",
        "    pprint.pprint(\"\\n---\\n\")"
      ]
    }
  ],
  "metadata": {
    "colab": {
      "provenance": []
    },
    "kernelspec": {
      "display_name": "Python 3",
      "name": "python3"
    },
    "language_info": {
      "name": "python"
    }
  },
  "nbformat": 4,
  "nbformat_minor": 0
}
